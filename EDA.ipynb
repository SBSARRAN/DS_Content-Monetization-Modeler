{
 "cells": [
  {
   "cell_type": "code",
   "execution_count": 46,
   "id": "610eda8c",
   "metadata": {},
   "outputs": [],
   "source": [
    "import pandas as pd\n",
    "import numpy as np\n",
    "import streamlit as st\n",
    "import matplotlib.pyplot as plt\n",
    "import seaborn as sns\n",
    "from sklearn.model_selection import train_test_split\n",
    "from sklearn.preprocessing import StandardScaler\n",
    "from sklearn.ensemble import RandomForestRegressor, GradientBoostingRegressor\n",
    "from sklearn.linear_model import LinearRegression\n",
    "from sklearn.metrics import r2_score,mean_squared_error\n",
    "from sklearn.linear_model import Ridge,Lasso\n"
   ]
  },
  {
   "cell_type": "code",
   "execution_count": 3,
   "id": "3064b65f",
   "metadata": {},
   "outputs": [
    {
     "data": {
      "text/html": [
       "<div>\n",
       "<style scoped>\n",
       "    .dataframe tbody tr th:only-of-type {\n",
       "        vertical-align: middle;\n",
       "    }\n",
       "\n",
       "    .dataframe tbody tr th {\n",
       "        vertical-align: top;\n",
       "    }\n",
       "\n",
       "    .dataframe thead th {\n",
       "        text-align: right;\n",
       "    }\n",
       "</style>\n",
       "<table border=\"1\" class=\"dataframe\">\n",
       "  <thead>\n",
       "    <tr style=\"text-align: right;\">\n",
       "      <th></th>\n",
       "      <th>video_id</th>\n",
       "      <th>date</th>\n",
       "      <th>views</th>\n",
       "      <th>likes</th>\n",
       "      <th>comments</th>\n",
       "      <th>watch_time_minutes</th>\n",
       "      <th>video_length_minutes</th>\n",
       "      <th>subscribers</th>\n",
       "      <th>category</th>\n",
       "      <th>device</th>\n",
       "      <th>country</th>\n",
       "      <th>ad_revenue_usd</th>\n",
       "    </tr>\n",
       "  </thead>\n",
       "  <tbody>\n",
       "    <tr>\n",
       "      <th>0</th>\n",
       "      <td>vid_3092</td>\n",
       "      <td>2024-09-24 10:50:40.993199</td>\n",
       "      <td>9936</td>\n",
       "      <td>1221.0</td>\n",
       "      <td>320.0</td>\n",
       "      <td>26497.214184</td>\n",
       "      <td>2.862137</td>\n",
       "      <td>228086</td>\n",
       "      <td>Entertainment</td>\n",
       "      <td>TV</td>\n",
       "      <td>IN</td>\n",
       "      <td>203.178237</td>\n",
       "    </tr>\n",
       "    <tr>\n",
       "      <th>1</th>\n",
       "      <td>vid_3459</td>\n",
       "      <td>2024-09-22 10:50:40.993199</td>\n",
       "      <td>10017</td>\n",
       "      <td>642.0</td>\n",
       "      <td>346.0</td>\n",
       "      <td>15209.747445</td>\n",
       "      <td>23.738069</td>\n",
       "      <td>736015</td>\n",
       "      <td>Gaming</td>\n",
       "      <td>Tablet</td>\n",
       "      <td>CA</td>\n",
       "      <td>140.880508</td>\n",
       "    </tr>\n",
       "    <tr>\n",
       "      <th>2</th>\n",
       "      <td>vid_4784</td>\n",
       "      <td>2024-11-21 10:50:40.993199</td>\n",
       "      <td>10097</td>\n",
       "      <td>1979.0</td>\n",
       "      <td>187.0</td>\n",
       "      <td>57332.658498</td>\n",
       "      <td>26.200634</td>\n",
       "      <td>240534</td>\n",
       "      <td>Education</td>\n",
       "      <td>TV</td>\n",
       "      <td>CA</td>\n",
       "      <td>360.134008</td>\n",
       "    </tr>\n",
       "    <tr>\n",
       "      <th>3</th>\n",
       "      <td>vid_4078</td>\n",
       "      <td>2025-01-28 10:50:40.993199</td>\n",
       "      <td>10034</td>\n",
       "      <td>1191.0</td>\n",
       "      <td>242.0</td>\n",
       "      <td>31334.517771</td>\n",
       "      <td>11.770340</td>\n",
       "      <td>434482</td>\n",
       "      <td>Entertainment</td>\n",
       "      <td>Mobile</td>\n",
       "      <td>UK</td>\n",
       "      <td>224.638261</td>\n",
       "    </tr>\n",
       "    <tr>\n",
       "      <th>4</th>\n",
       "      <td>vid_3522</td>\n",
       "      <td>2025-04-28 10:50:40.993199</td>\n",
       "      <td>9889</td>\n",
       "      <td>1858.0</td>\n",
       "      <td>477.0</td>\n",
       "      <td>15665.666434</td>\n",
       "      <td>6.635854</td>\n",
       "      <td>42030</td>\n",
       "      <td>Education</td>\n",
       "      <td>Mobile</td>\n",
       "      <td>CA</td>\n",
       "      <td>165.514388</td>\n",
       "    </tr>\n",
       "    <tr>\n",
       "      <th>...</th>\n",
       "      <td>...</td>\n",
       "      <td>...</td>\n",
       "      <td>...</td>\n",
       "      <td>...</td>\n",
       "      <td>...</td>\n",
       "      <td>...</td>\n",
       "      <td>...</td>\n",
       "      <td>...</td>\n",
       "      <td>...</td>\n",
       "      <td>...</td>\n",
       "      <td>...</td>\n",
       "      <td>...</td>\n",
       "    </tr>\n",
       "    <tr>\n",
       "      <th>122395</th>\n",
       "      <td>vid_2902</td>\n",
       "      <td>2024-12-14 10:50:40.993199</td>\n",
       "      <td>9853</td>\n",
       "      <td>1673.0</td>\n",
       "      <td>147.0</td>\n",
       "      <td>42075.704885</td>\n",
       "      <td>25.490195</td>\n",
       "      <td>210818</td>\n",
       "      <td>Education</td>\n",
       "      <td>Tablet</td>\n",
       "      <td>US</td>\n",
       "      <td>280.986396</td>\n",
       "    </tr>\n",
       "    <tr>\n",
       "      <th>122396</th>\n",
       "      <td>vid_3890</td>\n",
       "      <td>2024-07-13 10:50:40.993199</td>\n",
       "      <td>10128</td>\n",
       "      <td>1709.0</td>\n",
       "      <td>63.0</td>\n",
       "      <td>57563.703040</td>\n",
       "      <td>16.229133</td>\n",
       "      <td>878860</td>\n",
       "      <td>Music</td>\n",
       "      <td>Desktop</td>\n",
       "      <td>UK</td>\n",
       "      <td>354.612981</td>\n",
       "    </tr>\n",
       "    <tr>\n",
       "      <th>122397</th>\n",
       "      <td>vid_3934</td>\n",
       "      <td>2024-06-10 10:50:40.993199</td>\n",
       "      <td>10267</td>\n",
       "      <td>700.0</td>\n",
       "      <td>NaN</td>\n",
       "      <td>27549.714659</td>\n",
       "      <td>23.822365</td>\n",
       "      <td>576756</td>\n",
       "      <td>Tech</td>\n",
       "      <td>Tablet</td>\n",
       "      <td>CA</td>\n",
       "      <td>203.643106</td>\n",
       "    </tr>\n",
       "    <tr>\n",
       "      <th>122398</th>\n",
       "      <td>vid_4260</td>\n",
       "      <td>2024-12-22 10:50:40.993199</td>\n",
       "      <td>10240</td>\n",
       "      <td>1616.0</td>\n",
       "      <td>106.0</td>\n",
       "      <td>56967.384382</td>\n",
       "      <td>7.753099</td>\n",
       "      <td>585138</td>\n",
       "      <td>Music</td>\n",
       "      <td>Mobile</td>\n",
       "      <td>UK</td>\n",
       "      <td>351.525811</td>\n",
       "    </tr>\n",
       "    <tr>\n",
       "      <th>122399</th>\n",
       "      <td>vid_1056</td>\n",
       "      <td>2024-06-25 10:50:40.993199</td>\n",
       "      <td>9931</td>\n",
       "      <td>770.0</td>\n",
       "      <td>NaN</td>\n",
       "      <td>38466.837135</td>\n",
       "      <td>27.305703</td>\n",
       "      <td>517587</td>\n",
       "      <td>Tech</td>\n",
       "      <td>TV</td>\n",
       "      <td>CA</td>\n",
       "      <td>253.842824</td>\n",
       "    </tr>\n",
       "  </tbody>\n",
       "</table>\n",
       "<p>122400 rows × 12 columns</p>\n",
       "</div>"
      ],
      "text/plain": [
       "        video_id                        date  ...  country  ad_revenue_usd\n",
       "0       vid_3092  2024-09-24 10:50:40.993199  ...       IN      203.178237\n",
       "1       vid_3459  2024-09-22 10:50:40.993199  ...       CA      140.880508\n",
       "2       vid_4784  2024-11-21 10:50:40.993199  ...       CA      360.134008\n",
       "3       vid_4078  2025-01-28 10:50:40.993199  ...       UK      224.638261\n",
       "4       vid_3522  2025-04-28 10:50:40.993199  ...       CA      165.514388\n",
       "...          ...                         ...  ...      ...             ...\n",
       "122395  vid_2902  2024-12-14 10:50:40.993199  ...       US      280.986396\n",
       "122396  vid_3890  2024-07-13 10:50:40.993199  ...       UK      354.612981\n",
       "122397  vid_3934  2024-06-10 10:50:40.993199  ...       CA      203.643106\n",
       "122398  vid_4260  2024-12-22 10:50:40.993199  ...       UK      351.525811\n",
       "122399  vid_1056  2024-06-25 10:50:40.993199  ...       CA      253.842824\n",
       "\n",
       "[122400 rows x 12 columns]"
      ]
     },
     "execution_count": 3,
     "metadata": {},
     "output_type": "execute_result"
    }
   ],
   "source": [
    "df = pd.read_csv(r'C:\\Project_3\\youtube_ad_revenue_dataset.csv')\n",
    "df"
   ]
  },
  {
   "cell_type": "code",
   "execution_count": 4,
   "id": "3c383cc7",
   "metadata": {},
   "outputs": [],
   "source": [
    "df = df.drop_duplicates()"
   ]
  },
  {
   "cell_type": "code",
   "execution_count": 5,
   "id": "c815eb0d",
   "metadata": {},
   "outputs": [
    {
     "data": {
      "text/plain": [
       "(120000, 12)"
      ]
     },
     "execution_count": 5,
     "metadata": {},
     "output_type": "execute_result"
    }
   ],
   "source": [
    "df.shape"
   ]
  },
  {
   "cell_type": "code",
   "execution_count": 6,
   "id": "4986f590",
   "metadata": {},
   "outputs": [
    {
     "data": {
      "text/html": [
       "<div>\n",
       "<style scoped>\n",
       "    .dataframe tbody tr th:only-of-type {\n",
       "        vertical-align: middle;\n",
       "    }\n",
       "\n",
       "    .dataframe tbody tr th {\n",
       "        vertical-align: top;\n",
       "    }\n",
       "\n",
       "    .dataframe thead th {\n",
       "        text-align: right;\n",
       "    }\n",
       "</style>\n",
       "<table border=\"1\" class=\"dataframe\">\n",
       "  <thead>\n",
       "    <tr style=\"text-align: right;\">\n",
       "      <th></th>\n",
       "      <th>views</th>\n",
       "      <th>likes</th>\n",
       "      <th>comments</th>\n",
       "      <th>watch_time_minutes</th>\n",
       "      <th>video_length_minutes</th>\n",
       "      <th>subscribers</th>\n",
       "      <th>ad_revenue_usd</th>\n",
       "    </tr>\n",
       "  </thead>\n",
       "  <tbody>\n",
       "    <tr>\n",
       "      <th>count</th>\n",
       "      <td>120000.000000</td>\n",
       "      <td>114000.000000</td>\n",
       "      <td>114000.000000</td>\n",
       "      <td>114000.000000</td>\n",
       "      <td>120000.000000</td>\n",
       "      <td>120000.000000</td>\n",
       "      <td>120000.000000</td>\n",
       "    </tr>\n",
       "    <tr>\n",
       "      <th>mean</th>\n",
       "      <td>9999.832333</td>\n",
       "      <td>1099.585044</td>\n",
       "      <td>274.349842</td>\n",
       "      <td>37540.749921</td>\n",
       "      <td>16.017910</td>\n",
       "      <td>502291.970050</td>\n",
       "      <td>252.711361</td>\n",
       "    </tr>\n",
       "    <tr>\n",
       "      <th>std</th>\n",
       "      <td>99.918405</td>\n",
       "      <td>519.526733</td>\n",
       "      <td>129.746796</td>\n",
       "      <td>12987.818758</td>\n",
       "      <td>8.084928</td>\n",
       "      <td>288364.967705</td>\n",
       "      <td>61.954125</td>\n",
       "    </tr>\n",
       "    <tr>\n",
       "      <th>min</th>\n",
       "      <td>9521.000000</td>\n",
       "      <td>195.000000</td>\n",
       "      <td>48.000000</td>\n",
       "      <td>14659.105562</td>\n",
       "      <td>2.000142</td>\n",
       "      <td>1005.000000</td>\n",
       "      <td>126.590603</td>\n",
       "    </tr>\n",
       "    <tr>\n",
       "      <th>25%</th>\n",
       "      <td>9933.000000</td>\n",
       "      <td>650.000000</td>\n",
       "      <td>162.000000</td>\n",
       "      <td>26364.159667</td>\n",
       "      <td>9.005928</td>\n",
       "      <td>252641.500000</td>\n",
       "      <td>199.892158</td>\n",
       "    </tr>\n",
       "    <tr>\n",
       "      <th>50%</th>\n",
       "      <td>10000.000000</td>\n",
       "      <td>1102.000000</td>\n",
       "      <td>274.000000</td>\n",
       "      <td>37522.221205</td>\n",
       "      <td>16.009269</td>\n",
       "      <td>503633.500000</td>\n",
       "      <td>252.678607</td>\n",
       "    </tr>\n",
       "    <tr>\n",
       "      <th>75%</th>\n",
       "      <td>10067.000000</td>\n",
       "      <td>1547.250000</td>\n",
       "      <td>387.000000</td>\n",
       "      <td>48782.739997</td>\n",
       "      <td>23.026064</td>\n",
       "      <td>752386.250000</td>\n",
       "      <td>305.613497</td>\n",
       "    </tr>\n",
       "    <tr>\n",
       "      <th>max</th>\n",
       "      <td>10468.000000</td>\n",
       "      <td>2061.000000</td>\n",
       "      <td>515.000000</td>\n",
       "      <td>61557.670089</td>\n",
       "      <td>29.999799</td>\n",
       "      <td>999997.000000</td>\n",
       "      <td>382.768254</td>\n",
       "    </tr>\n",
       "  </tbody>\n",
       "</table>\n",
       "</div>"
      ],
      "text/plain": [
       "               views          likes  ...    subscribers  ad_revenue_usd\n",
       "count  120000.000000  114000.000000  ...  120000.000000   120000.000000\n",
       "mean     9999.832333    1099.585044  ...  502291.970050      252.711361\n",
       "std        99.918405     519.526733  ...  288364.967705       61.954125\n",
       "min      9521.000000     195.000000  ...    1005.000000      126.590603\n",
       "25%      9933.000000     650.000000  ...  252641.500000      199.892158\n",
       "50%     10000.000000    1102.000000  ...  503633.500000      252.678607\n",
       "75%     10067.000000    1547.250000  ...  752386.250000      305.613497\n",
       "max     10468.000000    2061.000000  ...  999997.000000      382.768254\n",
       "\n",
       "[8 rows x 7 columns]"
      ]
     },
     "execution_count": 6,
     "metadata": {},
     "output_type": "execute_result"
    }
   ],
   "source": [
    "df.describe()"
   ]
  },
  {
   "cell_type": "code",
   "execution_count": 7,
   "id": "f20b190b",
   "metadata": {},
   "outputs": [
    {
     "name": "stdout",
     "output_type": "stream",
     "text": [
      "<class 'pandas.core.frame.DataFrame'>\n",
      "Index: 120000 entries, 0 to 122399\n",
      "Data columns (total 12 columns):\n",
      " #   Column                Non-Null Count   Dtype  \n",
      "---  ------                --------------   -----  \n",
      " 0   video_id              120000 non-null  object \n",
      " 1   date                  120000 non-null  object \n",
      " 2   views                 120000 non-null  int64  \n",
      " 3   likes                 114000 non-null  float64\n",
      " 4   comments              114000 non-null  float64\n",
      " 5   watch_time_minutes    114000 non-null  float64\n",
      " 6   video_length_minutes  120000 non-null  float64\n",
      " 7   subscribers           120000 non-null  int64  \n",
      " 8   category              120000 non-null  object \n",
      " 9   device                120000 non-null  object \n",
      " 10  country               120000 non-null  object \n",
      " 11  ad_revenue_usd        120000 non-null  float64\n",
      "dtypes: float64(5), int64(2), object(5)\n",
      "memory usage: 11.9+ MB\n"
     ]
    }
   ],
   "source": [
    "df.info()"
   ]
  },
  {
   "cell_type": "code",
   "execution_count": 8,
   "id": "1ffd0ce5",
   "metadata": {},
   "outputs": [
    {
     "name": "stdout",
     "output_type": "stream",
     "text": [
      "Total Numbers of Missing Values in likes 6000\n"
     ]
    },
    {
     "data": {
      "image/png": "[encoded data removed]",
      "text/plain": [
       "<Figure size 600x400 with 1 Axes>"
      ]
     },
     "metadata": {},
     "output_type": "display_data"
    },
    {
     "name": "stdout",
     "output_type": "stream",
     "text": [
      "Total Numbers of Missing Values in comments 6000\n"
     ]
    },
    {
     "data": {
      "image/png": "[encoded data removed]",
      "text/plain": [
       "<Figure size 600x400 with 1 Axes>"
      ]
     },
     "metadata": {},
     "output_type": "display_data"
    },
    {
     "name": "stdout",
     "output_type": "stream",
     "text": [
      "Total Numbers of Missing Values in watch_time_minutes 6000\n"
     ]
    },
    {
     "data": {
      "image/png": "[encoded data removed]",
      "text/plain": [
       "<Figure size 600x400 with 1 Axes>"
      ]
     },
     "metadata": {},
     "output_type": "display_data"
    }
   ],
   "source": [
    "# Now we are exploring how many features has missing values\n",
    "# And we are going to visual how there are distributed\n",
    "column_list = df.columns.tolist()\n",
    "for i in column_list:\n",
    "        if df[i].isnull().sum() > 1:\n",
    "          print(f'Total Numbers of Missing Values in {i}',df[i].isnull().sum())\n",
    "          plt.figure(figsize=(6,4))\n",
    "          sns.histplot(df[i],bins = 50,kde = True)\n",
    "          plt.title(f'Distribution of {i}')\n",
    "          plt.show()\n"
   ]
  },
  {
   "cell_type": "code",
   "execution_count": 9,
   "id": "d55d0f55",
   "metadata": {},
   "outputs": [
    {
     "name": "stderr",
     "output_type": "stream",
     "text": [
      "C:\\Users\\D E L L\\AppData\\Local\\Temp\\ipykernel_17996\\1999625777.py:2: FutureWarning: A value is trying to be set on a copy of a DataFrame or Series through chained assignment using an inplace method.\n",
      "The behavior will change in pandas 3.0. This inplace method will never work because the intermediate object on which we are setting values always behaves as a copy.\n",
      "\n",
      "For example, when doing 'df[col].method(value, inplace=True)', try using 'df.method({col: value}, inplace=True)' or df[col] = df[col].method(value) instead, to perform the operation inplace on the original object.\n",
      "\n",
      "\n",
      "  df['watch_time_minutes'].fillna(df['watch_time_minutes'].mean(),inplace = True)\n",
      "C:\\Users\\D E L L\\AppData\\Local\\Temp\\ipykernel_17996\\1999625777.py:2: SettingWithCopyWarning: \n",
      "A value is trying to be set on a copy of a slice from a DataFrame\n",
      "\n",
      "See the caveats in the documentation: https://pandas.pydata.org/pandas-docs/stable/user_guide/indexing.html#returning-a-view-versus-a-copy\n",
      "  df['watch_time_minutes'].fillna(df['watch_time_minutes'].mean(),inplace = True)\n",
      "C:\\Users\\D E L L\\AppData\\Local\\Temp\\ipykernel_17996\\1999625777.py:3: FutureWarning: A value is trying to be set on a copy of a DataFrame or Series through chained assignment using an inplace method.\n",
      "The behavior will change in pandas 3.0. This inplace method will never work because the intermediate object on which we are setting values always behaves as a copy.\n",
      "\n",
      "For example, when doing 'df[col].method(value, inplace=True)', try using 'df.method({col: value}, inplace=True)' or df[col] = df[col].method(value) instead, to perform the operation inplace on the original object.\n",
      "\n",
      "\n",
      "  df['comments'].fillna(df['comments'].mean(),inplace = True)\n",
      "C:\\Users\\D E L L\\AppData\\Local\\Temp\\ipykernel_17996\\1999625777.py:3: SettingWithCopyWarning: \n",
      "A value is trying to be set on a copy of a slice from a DataFrame\n",
      "\n",
      "See the caveats in the documentation: https://pandas.pydata.org/pandas-docs/stable/user_guide/indexing.html#returning-a-view-versus-a-copy\n",
      "  df['comments'].fillna(df['comments'].mean(),inplace = True)\n",
      "C:\\Users\\D E L L\\AppData\\Local\\Temp\\ipykernel_17996\\1999625777.py:4: FutureWarning: A value is trying to be set on a copy of a DataFrame or Series through chained assignment using an inplace method.\n",
      "The behavior will change in pandas 3.0. This inplace method will never work because the intermediate object on which we are setting values always behaves as a copy.\n",
      "\n",
      "For example, when doing 'df[col].method(value, inplace=True)', try using 'df.method({col: value}, inplace=True)' or df[col] = df[col].method(value) instead, to perform the operation inplace on the original object.\n",
      "\n",
      "\n",
      "  df['likes'].fillna(df['likes'].mean(),inplace = True)\n",
      "C:\\Users\\D E L L\\AppData\\Local\\Temp\\ipykernel_17996\\1999625777.py:4: SettingWithCopyWarning: \n",
      "A value is trying to be set on a copy of a slice from a DataFrame\n",
      "\n",
      "See the caveats in the documentation: https://pandas.pydata.org/pandas-docs/stable/user_guide/indexing.html#returning-a-view-versus-a-copy\n",
      "  df['likes'].fillna(df['likes'].mean(),inplace = True)\n"
     ]
    }
   ],
   "source": [
    "# Now we are filling missing values with mean().\n",
    "df['watch_time_minutes'].fillna(df['watch_time_minutes'].mean(),inplace = True)\n",
    "df['comments'].fillna(df['comments'].mean(),inplace = True)\n",
    "df['likes'].fillna(df['likes'].mean(),inplace = True)\n",
    "\n",
    "\n"
   ]
  },
  {
   "cell_type": "code",
   "execution_count": 10,
   "id": "2c83a898",
   "metadata": {},
   "outputs": [
    {
     "data": {
      "text/plain": [
       "video_id                0\n",
       "date                    0\n",
       "views                   0\n",
       "likes                   0\n",
       "comments                0\n",
       "watch_time_minutes      0\n",
       "video_length_minutes    0\n",
       "subscribers             0\n",
       "category                0\n",
       "device                  0\n",
       "country                 0\n",
       "ad_revenue_usd          0\n",
       "dtype: int64"
      ]
     },
     "execution_count": 10,
     "metadata": {},
     "output_type": "execute_result"
    }
   ],
   "source": [
    "df.isnull().sum()"
   ]
  },
  {
   "cell_type": "code",
   "execution_count": 11,
   "id": "2a68f300",
   "metadata": {},
   "outputs": [
    {
     "data": {
      "text/html": [
       "<div>\n",
       "<style scoped>\n",
       "    .dataframe tbody tr th:only-of-type {\n",
       "        vertical-align: middle;\n",
       "    }\n",
       "\n",
       "    .dataframe tbody tr th {\n",
       "        vertical-align: top;\n",
       "    }\n",
       "\n",
       "    .dataframe thead th {\n",
       "        text-align: right;\n",
       "    }\n",
       "</style>\n",
       "<table border=\"1\" class=\"dataframe\">\n",
       "  <thead>\n",
       "    <tr style=\"text-align: right;\">\n",
       "      <th></th>\n",
       "      <th>video_id</th>\n",
       "      <th>date</th>\n",
       "      <th>views</th>\n",
       "      <th>likes</th>\n",
       "      <th>comments</th>\n",
       "      <th>watch_time_minutes</th>\n",
       "      <th>video_length_minutes</th>\n",
       "      <th>subscribers</th>\n",
       "      <th>category</th>\n",
       "      <th>device</th>\n",
       "      <th>country</th>\n",
       "      <th>ad_revenue_usd</th>\n",
       "    </tr>\n",
       "  </thead>\n",
       "  <tbody>\n",
       "    <tr>\n",
       "      <th>0</th>\n",
       "      <td>vid_3092</td>\n",
       "      <td>2024-09-24 10:50:40.993199</td>\n",
       "      <td>9936</td>\n",
       "      <td>1221.0</td>\n",
       "      <td>320.0</td>\n",
       "      <td>26497.214184</td>\n",
       "      <td>2.862137</td>\n",
       "      <td>228086</td>\n",
       "      <td>Entertainment</td>\n",
       "      <td>TV</td>\n",
       "      <td>IN</td>\n",
       "      <td>203.178237</td>\n",
       "    </tr>\n",
       "    <tr>\n",
       "      <th>1</th>\n",
       "      <td>vid_3459</td>\n",
       "      <td>2024-09-22 10:50:40.993199</td>\n",
       "      <td>10017</td>\n",
       "      <td>642.0</td>\n",
       "      <td>346.0</td>\n",
       "      <td>15209.747445</td>\n",
       "      <td>23.738069</td>\n",
       "      <td>736015</td>\n",
       "      <td>Gaming</td>\n",
       "      <td>Tablet</td>\n",
       "      <td>CA</td>\n",
       "      <td>140.880508</td>\n",
       "    </tr>\n",
       "    <tr>\n",
       "      <th>2</th>\n",
       "      <td>vid_4784</td>\n",
       "      <td>2024-11-21 10:50:40.993199</td>\n",
       "      <td>10097</td>\n",
       "      <td>1979.0</td>\n",
       "      <td>187.0</td>\n",
       "      <td>57332.658498</td>\n",
       "      <td>26.200634</td>\n",
       "      <td>240534</td>\n",
       "      <td>Education</td>\n",
       "      <td>TV</td>\n",
       "      <td>CA</td>\n",
       "      <td>360.134008</td>\n",
       "    </tr>\n",
       "    <tr>\n",
       "      <th>3</th>\n",
       "      <td>vid_4078</td>\n",
       "      <td>2025-01-28 10:50:40.993199</td>\n",
       "      <td>10034</td>\n",
       "      <td>1191.0</td>\n",
       "      <td>242.0</td>\n",
       "      <td>31334.517771</td>\n",
       "      <td>11.770340</td>\n",
       "      <td>434482</td>\n",
       "      <td>Entertainment</td>\n",
       "      <td>Mobile</td>\n",
       "      <td>UK</td>\n",
       "      <td>224.638261</td>\n",
       "    </tr>\n",
       "    <tr>\n",
       "      <th>4</th>\n",
       "      <td>vid_3522</td>\n",
       "      <td>2025-04-28 10:50:40.993199</td>\n",
       "      <td>9889</td>\n",
       "      <td>1858.0</td>\n",
       "      <td>477.0</td>\n",
       "      <td>15665.666434</td>\n",
       "      <td>6.635854</td>\n",
       "      <td>42030</td>\n",
       "      <td>Education</td>\n",
       "      <td>Mobile</td>\n",
       "      <td>CA</td>\n",
       "      <td>165.514388</td>\n",
       "    </tr>\n",
       "  </tbody>\n",
       "</table>\n",
       "</div>"
      ],
      "text/plain": [
       "   video_id                        date  views  ...  device  country  ad_revenue_usd\n",
       "0  vid_3092  2024-09-24 10:50:40.993199   9936  ...      TV       IN      203.178237\n",
       "1  vid_3459  2024-09-22 10:50:40.993199  10017  ...  Tablet       CA      140.880508\n",
       "2  vid_4784  2024-11-21 10:50:40.993199  10097  ...      TV       CA      360.134008\n",
       "3  vid_4078  2025-01-28 10:50:40.993199  10034  ...  Mobile       UK      224.638261\n",
       "4  vid_3522  2025-04-28 10:50:40.993199   9889  ...  Mobile       CA      165.514388\n",
       "\n",
       "[5 rows x 12 columns]"
      ]
     },
     "execution_count": 11,
     "metadata": {},
     "output_type": "execute_result"
    }
   ],
   "source": [
    "df.head()"
   ]
  },
  {
   "cell_type": "code",
   "execution_count": 12,
   "id": "9da1dd5d",
   "metadata": {},
   "outputs": [
    {
     "data": {
      "text/plain": [
       "video_id                 object\n",
       "date                     object\n",
       "views                     int64\n",
       "likes                   float64\n",
       "comments                float64\n",
       "watch_time_minutes      float64\n",
       "video_length_minutes    float64\n",
       "subscribers               int64\n",
       "category                 object\n",
       "device                   object\n",
       "country                  object\n",
       "ad_revenue_usd          float64\n",
       "dtype: object"
      ]
     },
     "execution_count": 12,
     "metadata": {},
     "output_type": "execute_result"
    }
   ],
   "source": [
    "df.dtypes"
   ]
  },
  {
   "cell_type": "code",
   "execution_count": 13,
   "id": "4cfbba5f",
   "metadata": {},
   "outputs": [
    {
     "data": {
      "text/plain": [
       "category\n",
       "Education        20123\n",
       "Music            20065\n",
       "Tech             20028\n",
       "Entertainment    20025\n",
       "Gaming           19974\n",
       "Lifestyle        19785\n",
       "Name: count, dtype: int64"
      ]
     },
     "execution_count": 13,
     "metadata": {},
     "output_type": "execute_result"
    }
   ],
   "source": [
    "# Now we are encoding the catgorical features\n",
    "df['category'].value_counts()"
   ]
  },
  {
   "cell_type": "code",
   "execution_count": 14,
   "id": "a90cab73",
   "metadata": {},
   "outputs": [
    {
     "name": "stderr",
     "output_type": "stream",
     "text": [
      "C:\\Users\\D E L L\\AppData\\Local\\Temp\\ipykernel_17996\\2047077160.py:10: SettingWithCopyWarning: \n",
      "A value is trying to be set on a copy of a slice from a DataFrame.\n",
      "Try using .loc[row_indexer,col_indexer] = value instead\n",
      "\n",
      "See the caveats in the documentation: https://pandas.pydata.org/pandas-docs/stable/user_guide/indexing.html#returning-a-view-versus-a-copy\n",
      "  df['category'] = df['category'].map(encoding_map)\n"
     ]
    }
   ],
   "source": [
    "encoding_map = {\n",
    "    'Education': 1,\n",
    "    'Music': 2,\n",
    "    'Tech': 3,\n",
    "    'Entertainment': 4,\n",
    "    'Gaming': 5,\n",
    "    'Lifestyle': 6\n",
    "}\n",
    "\n",
    "df['category'] = df['category'].map(encoding_map)\n"
   ]
  },
  {
   "cell_type": "code",
   "execution_count": 15,
   "id": "3a840107",
   "metadata": {},
   "outputs": [
    {
     "data": {
      "text/plain": [
       "device\n",
       "TV         30086\n",
       "Mobile     29989\n",
       "Desktop    29984\n",
       "Tablet     29941\n",
       "Name: count, dtype: int64"
      ]
     },
     "execution_count": 15,
     "metadata": {},
     "output_type": "execute_result"
    }
   ],
   "source": [
    "df['device'].value_counts()"
   ]
  },
  {
   "cell_type": "code",
   "execution_count": 16,
   "id": "ee80ddd9",
   "metadata": {},
   "outputs": [
    {
     "name": "stderr",
     "output_type": "stream",
     "text": [
      "C:\\Users\\D E L L\\AppData\\Local\\Temp\\ipykernel_17996\\3169745881.py:9: SettingWithCopyWarning: \n",
      "A value is trying to be set on a copy of a slice from a DataFrame.\n",
      "Try using .loc[row_indexer,col_indexer] = value instead\n",
      "\n",
      "See the caveats in the documentation: https://pandas.pydata.org/pandas-docs/stable/user_guide/indexing.html#returning-a-view-versus-a-copy\n",
      "  df['device'] = df['device'].map(encoding_map)\n"
     ]
    }
   ],
   "source": [
    "encoding_map = {\n",
    "    'TV': 1,\n",
    "    'Mobile': 2,\n",
    "    'Desktop': 3,\n",
    "    'Tablet': 4,\n",
    "    \n",
    "}\n",
    "\n",
    "df['device'] = df['device'].map(encoding_map)\n"
   ]
  },
  {
   "cell_type": "code",
   "execution_count": 17,
   "id": "170f1d67",
   "metadata": {},
   "outputs": [
    {
     "data": {
      "text/plain": [
       "country\n",
       "CA    20198\n",
       "DE    20160\n",
       "IN    20156\n",
       "AU    19911\n",
       "UK    19893\n",
       "US    19682\n",
       "Name: count, dtype: int64"
      ]
     },
     "execution_count": 17,
     "metadata": {},
     "output_type": "execute_result"
    }
   ],
   "source": [
    "df['country'].value_counts()"
   ]
  },
  {
   "cell_type": "code",
   "execution_count": 18,
   "id": "9bf782d8",
   "metadata": {},
   "outputs": [
    {
     "name": "stderr",
     "output_type": "stream",
     "text": [
      "C:\\Users\\D E L L\\AppData\\Local\\Temp\\ipykernel_17996\\294307324.py:11: SettingWithCopyWarning: \n",
      "A value is trying to be set on a copy of a slice from a DataFrame.\n",
      "Try using .loc[row_indexer,col_indexer] = value instead\n",
      "\n",
      "See the caveats in the documentation: https://pandas.pydata.org/pandas-docs/stable/user_guide/indexing.html#returning-a-view-versus-a-copy\n",
      "  df['country'] = df['country'].map(encoding_map)\n"
     ]
    }
   ],
   "source": [
    "encoding_map = {\n",
    "    'CA': 1,\n",
    "    'DE': 2,\n",
    "    'IN': 3,\n",
    "    'AU': 4,\n",
    "    'UK': 5,\n",
    "    'US': 6\n",
    "    \n",
    "}\n",
    "\n",
    "df['country'] = df['country'].map(encoding_map)\n"
   ]
  },
  {
   "cell_type": "code",
   "execution_count": 19,
   "id": "396fbdd3",
   "metadata": {},
   "outputs": [
    {
     "name": "stdout",
     "output_type": "stream",
     "text": [
      "<class 'pandas.core.frame.DataFrame'>\n",
      "Index: 120000 entries, 0 to 122399\n",
      "Data columns (total 12 columns):\n",
      " #   Column                Non-Null Count   Dtype  \n",
      "---  ------                --------------   -----  \n",
      " 0   video_id              120000 non-null  object \n",
      " 1   date                  120000 non-null  object \n",
      " 2   views                 120000 non-null  int64  \n",
      " 3   likes                 120000 non-null  float64\n",
      " 4   comments              120000 non-null  float64\n",
      " 5   watch_time_minutes    120000 non-null  float64\n",
      " 6   video_length_minutes  120000 non-null  float64\n",
      " 7   subscribers           120000 non-null  int64  \n",
      " 8   category              120000 non-null  int64  \n",
      " 9   device                120000 non-null  int64  \n",
      " 10  country               120000 non-null  int64  \n",
      " 11  ad_revenue_usd        120000 non-null  float64\n",
      "dtypes: float64(5), int64(5), object(2)\n",
      "memory usage: 11.9+ MB\n"
     ]
    }
   ],
   "source": [
    "df.info()"
   ]
  },
  {
   "cell_type": "code",
   "execution_count": 20,
   "id": "5423350a",
   "metadata": {},
   "outputs": [],
   "source": [
    "# Feature wise analysis :\n",
    "# column_1 and 2 : video_id,date ( # drop ID and date (not useful for prediction))\n",
    "df = df.drop(columns = ['video_id','date'])"
   ]
  },
  {
   "cell_type": "code",
   "execution_count": 21,
   "id": "036b5987",
   "metadata": {},
   "outputs": [],
   "source": [
    "# Now we are deriving the new feature called engagement rate = (likes + comments) / views). To bring our model with more accuracy\n",
    "df['engagement_rate'] = (df['likes'] + df['comments'] / df['views'])"
   ]
  },
  {
   "cell_type": "code",
   "execution_count": 22,
   "id": "e819decd",
   "metadata": {},
   "outputs": [],
   "source": [
    "# Train and Split Test\n",
    "X = df.drop(columns= ['ad_revenue_usd'])\n",
    "y = df['ad_revenue_usd']"
   ]
  },
  {
   "cell_type": "code",
   "execution_count": 23,
   "id": "65dd6186",
   "metadata": {},
   "outputs": [
    {
     "data": {
      "text/plain": [
       "((96000, 10), (24000, 10), (96000,), (24000,))"
      ]
     },
     "execution_count": 23,
     "metadata": {},
     "output_type": "execute_result"
    }
   ],
   "source": [
    "X_train,X_test,y_train,y_test = train_test_split(X,y,test_size=0.2,random_state=42)\n",
    "X_train.shape,X_test.shape,y_train.shape,y_test.shape"
   ]
  },
  {
   "cell_type": "code",
   "execution_count": 24,
   "id": "5127d060",
   "metadata": {},
   "outputs": [
    {
     "data": {
      "text/html": [
       "<div>\n",
       "<style scoped>\n",
       "    .dataframe tbody tr th:only-of-type {\n",
       "        vertical-align: middle;\n",
       "    }\n",
       "\n",
       "    .dataframe tbody tr th {\n",
       "        vertical-align: top;\n",
       "    }\n",
       "\n",
       "    .dataframe thead th {\n",
       "        text-align: right;\n",
       "    }\n",
       "</style>\n",
       "<table border=\"1\" class=\"dataframe\">\n",
       "  <thead>\n",
       "    <tr style=\"text-align: right;\">\n",
       "      <th></th>\n",
       "      <th>views</th>\n",
       "      <th>likes</th>\n",
       "      <th>comments</th>\n",
       "      <th>watch_time_minutes</th>\n",
       "      <th>video_length_minutes</th>\n",
       "      <th>subscribers</th>\n",
       "      <th>category</th>\n",
       "      <th>device</th>\n",
       "      <th>country</th>\n",
       "      <th>ad_revenue_usd</th>\n",
       "      <th>engagement_rate</th>\n",
       "    </tr>\n",
       "  </thead>\n",
       "  <tbody>\n",
       "    <tr>\n",
       "      <th>0</th>\n",
       "      <td>9936</td>\n",
       "      <td>1221.0</td>\n",
       "      <td>320.0</td>\n",
       "      <td>26497.214184</td>\n",
       "      <td>2.862137</td>\n",
       "      <td>228086</td>\n",
       "      <td>4</td>\n",
       "      <td>1</td>\n",
       "      <td>3</td>\n",
       "      <td>203.178237</td>\n",
       "      <td>1221.032206</td>\n",
       "    </tr>\n",
       "    <tr>\n",
       "      <th>1</th>\n",
       "      <td>10017</td>\n",
       "      <td>642.0</td>\n",
       "      <td>346.0</td>\n",
       "      <td>15209.747445</td>\n",
       "      <td>23.738069</td>\n",
       "      <td>736015</td>\n",
       "      <td>5</td>\n",
       "      <td>4</td>\n",
       "      <td>1</td>\n",
       "      <td>140.880508</td>\n",
       "      <td>642.034541</td>\n",
       "    </tr>\n",
       "    <tr>\n",
       "      <th>2</th>\n",
       "      <td>10097</td>\n",
       "      <td>1979.0</td>\n",
       "      <td>187.0</td>\n",
       "      <td>57332.658498</td>\n",
       "      <td>26.200634</td>\n",
       "      <td>240534</td>\n",
       "      <td>1</td>\n",
       "      <td>1</td>\n",
       "      <td>1</td>\n",
       "      <td>360.134008</td>\n",
       "      <td>1979.018520</td>\n",
       "    </tr>\n",
       "    <tr>\n",
       "      <th>3</th>\n",
       "      <td>10034</td>\n",
       "      <td>1191.0</td>\n",
       "      <td>242.0</td>\n",
       "      <td>31334.517771</td>\n",
       "      <td>11.770340</td>\n",
       "      <td>434482</td>\n",
       "      <td>4</td>\n",
       "      <td>2</td>\n",
       "      <td>5</td>\n",
       "      <td>224.638261</td>\n",
       "      <td>1191.024118</td>\n",
       "    </tr>\n",
       "    <tr>\n",
       "      <th>4</th>\n",
       "      <td>9889</td>\n",
       "      <td>1858.0</td>\n",
       "      <td>477.0</td>\n",
       "      <td>15665.666434</td>\n",
       "      <td>6.635854</td>\n",
       "      <td>42030</td>\n",
       "      <td>1</td>\n",
       "      <td>2</td>\n",
       "      <td>1</td>\n",
       "      <td>165.514388</td>\n",
       "      <td>1858.048235</td>\n",
       "    </tr>\n",
       "  </tbody>\n",
       "</table>\n",
       "</div>"
      ],
      "text/plain": [
       "   views   likes  comments  ...  country  ad_revenue_usd  engagement_rate\n",
       "0   9936  1221.0     320.0  ...        3      203.178237      1221.032206\n",
       "1  10017   642.0     346.0  ...        1      140.880508       642.034541\n",
       "2  10097  1979.0     187.0  ...        1      360.134008      1979.018520\n",
       "3  10034  1191.0     242.0  ...        5      224.638261      1191.024118\n",
       "4   9889  1858.0     477.0  ...        1      165.514388      1858.048235\n",
       "\n",
       "[5 rows x 11 columns]"
      ]
     },
     "execution_count": 24,
     "metadata": {},
     "output_type": "execute_result"
    }
   ],
   "source": [
    "df.head()"
   ]
  }
 ],
 "metadata": {
  "kernelspec": {
   "display_name": "Python 3",
   "language": "python",
   "name": "python3"
  },
  "language_info": {
   "codemirror_mode": {
    "name": "ipython",
    "version": 3
   },
   "file_extension": ".py",
   "mimetype": "text/x-python",
   "name": "python",
   "nbconvert_exporter": "python",
   "pygments_lexer": "ipython3",
   "version": "3.13.1"
  }
 },
 "nbformat": 4,
 "nbformat_minor": 5
}
